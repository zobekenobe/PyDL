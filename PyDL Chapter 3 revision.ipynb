{
 "cells": [
  {
   "cell_type": "code",
   "execution_count": 1,
   "id": "fe2d9d9a",
   "metadata": {},
   "outputs": [],
   "source": [
    "import tensorflow as tf\n",
    "import numpy as np"
   ]
  },
  {
   "cell_type": "code",
   "execution_count": 2,
   "id": "e0a13092",
   "metadata": {},
   "outputs": [
    {
     "data": {
      "text/plain": [
       "<tf.Tensor: shape=(3, 3), dtype=float32, numpy=\n",
       "array([[1., 1., 1.],\n",
       "       [1., 1., 1.],\n",
       "       [1., 1., 1.]], dtype=float32)>"
      ]
     },
     "execution_count": 2,
     "metadata": {},
     "output_type": "execute_result"
    }
   ],
   "source": [
    "tf.ones(shape=[3,3])"
   ]
  },
  {
   "cell_type": "code",
   "execution_count": 3,
   "id": "a5db76fd",
   "metadata": {},
   "outputs": [
    {
     "data": {
      "text/plain": [
       "<tf.Tensor: shape=(2, 2), dtype=float32, numpy=\n",
       "array([[0., 0.],\n",
       "       [0., 0.]], dtype=float32)>"
      ]
     },
     "execution_count": 3,
     "metadata": {},
     "output_type": "execute_result"
    }
   ],
   "source": [
    "tf.zeros(shape=[2,2])"
   ]
  },
  {
   "cell_type": "code",
   "execution_count": 6,
   "id": "cf6b9bab",
   "metadata": {},
   "outputs": [
    {
     "data": {
      "text/plain": [
       "<tf.Tensor: shape=(5, 5), dtype=float32, numpy=\n",
       "array([[0.81110275, 0.28769374, 0.4245    , 0.23177338, 0.76872873],\n",
       "       [0.90487885, 0.44339204, 0.8725952 , 0.4202993 , 0.03122175],\n",
       "       [0.4961425 , 0.21255863, 0.845103  , 0.38880134, 0.2730441 ],\n",
       "       [0.80871844, 0.9169866 , 0.97168696, 0.3657601 , 0.83735335],\n",
       "       [0.02062833, 0.34416187, 0.5733881 , 0.61014974, 0.421849  ]],\n",
       "      dtype=float32)>"
      ]
     },
     "execution_count": 6,
     "metadata": {},
     "output_type": "execute_result"
    }
   ],
   "source": [
    "tf.random.uniform(shape=[5,5], minval = 0,maxval = 1, dtype = 'float32')"
   ]
  },
  {
   "cell_type": "code",
   "execution_count": 8,
   "id": "8f6d5e86",
   "metadata": {},
   "outputs": [
    {
     "data": {
      "text/plain": [
       "<tf.Tensor: shape=(5, 5), dtype=float32, numpy=\n",
       "array([[ 6.2607735e-02, -1.3284103e+00, -2.5009472e+00, -1.2501822e+00,\n",
       "         1.6648477e-01],\n",
       "       [-2.7108711e-01,  4.5138630e-01,  1.8978653e+00, -3.2065865e-01,\n",
       "         4.7713205e-01],\n",
       "       [ 2.5941578e-01, -2.0355834e-03,  2.1312355e-01,  1.2673012e+00,\n",
       "         1.1846565e+00],\n",
       "       [ 1.2627397e+00,  1.2195344e-02,  1.0949017e+00,  6.3657981e-01,\n",
       "        -4.3901306e-01],\n",
       "       [ 1.1400433e+00,  3.4888828e-01,  5.4201084e-01, -2.1427120e-01,\n",
       "         1.3775505e+00]], dtype=float32)>"
      ]
     },
     "execution_count": 8,
     "metadata": {},
     "output_type": "execute_result"
    }
   ],
   "source": [
    "tf.random.normal(shape = [5,5], mean = 0.0, stddev = 1., dtype='float32')"
   ]
  },
  {
   "cell_type": "code",
   "execution_count": 29,
   "id": "3ec68365",
   "metadata": {},
   "outputs": [],
   "source": [
    "a = tf.Variable(initial_value = [[1,0],[0,1]], shape = [2,2])"
   ]
  },
  {
   "cell_type": "code",
   "execution_count": 30,
   "id": "7d8263b8",
   "metadata": {},
   "outputs": [
    {
     "data": {
      "text/plain": [
       "<tf.Tensor: shape=(4, 4), dtype=int32, numpy=\n",
       "array([[1, 0, 1, 0],\n",
       "       [0, 1, 0, 1],\n",
       "       [1, 0, 1, 0],\n",
       "       [0, 1, 0, 1]])>"
      ]
     },
     "execution_count": 30,
     "metadata": {},
     "output_type": "execute_result"
    }
   ],
   "source": [
    "tf.tile(a, [2,2], tf.int32)"
   ]
  },
  {
   "cell_type": "code",
   "execution_count": 31,
   "id": "a00ba6f7",
   "metadata": {},
   "outputs": [
    {
     "data": {
      "text/plain": [
       "<tf.Tensor: shape=(4, 4), dtype=float32, numpy=\n",
       "array([[10., 10., 10., 10.],\n",
       "       [10., 10., 10., 10.],\n",
       "       [10., 10., 10., 10.],\n",
       "       [10., 10., 10., 10.]], dtype=float32)>"
      ]
     },
     "execution_count": 31,
     "metadata": {},
     "output_type": "execute_result"
    }
   ],
   "source": [
    "tf.fill([4,4], 10., tf.float32)"
   ]
  },
  {
   "cell_type": "code",
   "execution_count": 37,
   "id": "33d8a0f9",
   "metadata": {},
   "outputs": [],
   "source": [
    "x = tf.Variable(initial_value = 3.)"
   ]
  },
  {
   "cell_type": "code",
   "execution_count": 38,
   "id": "a0680a02",
   "metadata": {},
   "outputs": [],
   "source": [
    "with tf.GradientTape() as tape:\n",
    "    y = tf.square(x)\n",
    "    gradient = tape.gradient(y, x)\n",
    "    "
   ]
  },
  {
   "cell_type": "code",
   "execution_count": 48,
   "id": "d0cacbdd",
   "metadata": {},
   "outputs": [],
   "source": [
    "time = tf.Variable(initial_value = 0.)"
   ]
  },
  {
   "cell_type": "code",
   "execution_count": 49,
   "id": "a9d545b6",
   "metadata": {},
   "outputs": [],
   "source": [
    "# distance is h = 0.5*gt**2\n",
    "with tf.GradientTape() as tape1:\n",
    "    with tf.GradientTape() as tape2:\n",
    "        distance = (tf.multiply(tf.square(time),4.9))\n",
    "        inner_gradient = tape2.gradient(distance, time)\n",
    "    outer_gradient = tape1.gradient(inner_gradient, time)"
   ]
  },
  {
   "cell_type": "code",
   "execution_count": 51,
   "id": "399cabd4",
   "metadata": {},
   "outputs": [
    {
     "data": {
      "text/plain": [
       "9.8"
      ]
     },
     "execution_count": 51,
     "metadata": {},
     "output_type": "execute_result"
    }
   ],
   "source": [
    "outer_gradient.numpy()"
   ]
  },
  {
   "cell_type": "code",
   "execution_count": 52,
   "id": "dc149281",
   "metadata": {},
   "outputs": [
    {
     "data": {
      "text/plain": [
       "0.0"
      ]
     },
     "execution_count": 52,
     "metadata": {},
     "output_type": "execute_result"
    }
   ],
   "source": [
    "inner_gradient.numpy()"
   ]
  },
  {
   "cell_type": "code",
   "execution_count": 55,
   "id": "3b28c85c",
   "metadata": {},
   "outputs": [],
   "source": [
    "# using assign\n",
    "a = tf.Variable(initial_value = tf.fill([2,2], 10.))"
   ]
  },
  {
   "cell_type": "code",
   "execution_count": 65,
   "id": "a4ad30d2",
   "metadata": {},
   "outputs": [
    {
     "data": {
      "text/plain": [
       "<tf.Variable 'UnreadVariable' shape=(2, 2) dtype=float32, numpy=\n",
       "array([[100.,  10.],\n",
       "       [ 10.,  10.]], dtype=float32)>"
      ]
     },
     "execution_count": 65,
     "metadata": {},
     "output_type": "execute_result"
    }
   ],
   "source": [
    "a[0,0].assign(100.)"
   ]
  },
  {
   "cell_type": "code",
   "execution_count": 67,
   "id": "38cce053",
   "metadata": {},
   "outputs": [
    {
     "data": {
      "text/plain": [
       "<tf.Variable 'UnreadVariable' shape=(2, 2) dtype=float32, numpy=\n",
       "array([[ 100., -100.],\n",
       "       [  10.,   10.]], dtype=float32)>"
      ]
     },
     "execution_count": 67,
     "metadata": {},
     "output_type": "execute_result"
    }
   ],
   "source": [
    "a[0,1].assign(-100.)"
   ]
  },
  {
   "cell_type": "code",
   "execution_count": 72,
   "id": "39e7054d",
   "metadata": {},
   "outputs": [
    {
     "data": {
      "text/plain": [
       "<tf.Variable 'UnreadVariable' shape=(2, 2) dtype=float32, numpy=\n",
       "array([[ 100., -100.],\n",
       "       [   2.,    2.]], dtype=float32)>"
      ]
     },
     "execution_count": 72,
     "metadata": {},
     "output_type": "execute_result"
    }
   ],
   "source": [
    "a[1,:].assign([2,2])"
   ]
  },
  {
   "cell_type": "code",
   "execution_count": 75,
   "id": "ad175a0d",
   "metadata": {},
   "outputs": [
    {
     "data": {
      "text/plain": [
       "<tf.Variable 'UnreadVariable' shape=(2, 2) dtype=float32, numpy=\n",
       "array([[  1., 115.],\n",
       "       [  2.,   2.]], dtype=float32)>"
      ]
     },
     "execution_count": 75,
     "metadata": {},
     "output_type": "execute_result"
    }
   ],
   "source": [
    "a[0,:].assign([1,115])"
   ]
  },
  {
   "cell_type": "code",
   "execution_count": 86,
   "id": "ca144d5a",
   "metadata": {},
   "outputs": [
    {
     "data": {
      "text/plain": [
       "<tf.Variable 'UnreadVariable' shape=() dtype=float32, numpy=0.0>"
      ]
     },
     "execution_count": 86,
     "metadata": {},
     "output_type": "execute_result"
    }
   ],
   "source": [
    "time.assign_sub(1)"
   ]
  },
  {
   "cell_type": "code",
   "execution_count": 87,
   "id": "e9f9f42b",
   "metadata": {},
   "outputs": [],
   "source": [
    "a = tf.Variable(tf.zeros(shape = (3,1)))"
   ]
  },
  {
   "cell_type": "code",
   "execution_count": 90,
   "id": "4e87f73c",
   "metadata": {},
   "outputs": [
    {
     "data": {
      "text/plain": [
       "<tf.Variable 'UnreadVariable' shape=(3, 1) dtype=float32, numpy=\n",
       "array([[0.],\n",
       "       [0.],\n",
       "       [0.]], dtype=float32)>"
      ]
     },
     "execution_count": 90,
     "metadata": {},
     "output_type": "execute_result"
    }
   ],
   "source": [
    "a.assign_add(tf.ones(shape = (3,1)))"
   ]
  },
  {
   "cell_type": "code",
   "execution_count": 122,
   "id": "12c2e0d3",
   "metadata": {},
   "outputs": [],
   "source": [
    "x1 = np.random.multivariate_normal(mean = [3.0,0.0], cov = [[1,0.5],[0.5,1]], size = 1000)\n",
    "x2 = np.random.multivariate_normal(mean = [0.0,3.0], cov = [[1,0.5],[0.5,1]], size = 1000)"
   ]
  },
  {
   "cell_type": "code",
   "execution_count": 123,
   "id": "e9f7d930",
   "metadata": {},
   "outputs": [],
   "source": [
    "import matplotlib.pyplot as plt"
   ]
  },
  {
   "cell_type": "code",
   "execution_count": 128,
   "id": "ae835593",
   "metadata": {},
   "outputs": [],
   "source": [
    "inputs = np.vstack((x1,x2)).astype('float32')"
   ]
  },
  {
   "cell_type": "code",
   "execution_count": 131,
   "id": "26d49de1",
   "metadata": {},
   "outputs": [],
   "source": [
    "y1 = np.zeros(shape = (1000,1), dtype='float32')\n",
    "y2 = np.ones(shape = (1000,1), dtype='float32')"
   ]
  },
  {
   "cell_type": "code",
   "execution_count": 132,
   "id": "e41c1b89",
   "metadata": {},
   "outputs": [],
   "source": [
    "targets = np.vstack((y1, y2))"
   ]
  },
  {
   "cell_type": "code",
   "execution_count": 135,
   "id": "a5f69561",
   "metadata": {},
   "outputs": [
    {
     "data": {
      "text/plain": [
       "<matplotlib.collections.PathCollection at 0x1afa2d77790>"
      ]
     },
     "execution_count": 135,
     "metadata": {},
     "output_type": "execute_result"
    },
    {
     "data": {
      "image/png": "[encoded data removed]",
      "text/plain": [
       "<Figure size 432x288 with 1 Axes>"
      ]
     },
     "metadata": {
      "needs_background": "light"
     },
     "output_type": "display_data"
    }
   ],
   "source": [
    "plt.scatter(inputs[:,0], inputs[:,1],c = targets[:,0])"
   ]
  },
  {
   "cell_type": "code",
   "execution_count": 158,
   "id": "b12d9c31",
   "metadata": {},
   "outputs": [],
   "source": [
    "input_dim = 2\n",
    "output_dim= 1\n",
    "\n",
    "w = tf.Variable(initial_value = tf.random.uniform(shape = (input_dim, output_dim)), dtype= tf.float32)\n",
    "b = tf.Variable(initial_value = tf.zeros(shape=(output_dim,)), dtype = tf.float32)"
   ]
  },
  {
   "cell_type": "code",
   "execution_count": 159,
   "id": "96f08d18",
   "metadata": {},
   "outputs": [],
   "source": [
    "def model(inputs):\n",
    "    return tf.add(tf.matmul(inputs, w),b)"
   ]
  },
  {
   "cell_type": "code",
   "execution_count": 160,
   "id": "60b54058",
   "metadata": {},
   "outputs": [],
   "source": [
    "def loss_function(inputs, targets):\n",
    "    prediction = model(inputs)\n",
    "    loss = tf.reduce_mean(tf.square(prediction-targets))\n",
    "    return loss"
   ]
  },
  {
   "cell_type": "code",
   "execution_count": 163,
   "id": "eedc8cd2",
   "metadata": {},
   "outputs": [],
   "source": [
    "def training_step(inputs, targets, learning_rate = 0.1):\n",
    "    with tf.GradientTape() as tape:\n",
    "        loss = loss_function(inputs,targets)\n",
    "        gradients = tape.gradient(loss, [w, b])\n",
    "#         Update the weights and the bias\n",
    "    w.assign_sub(learning_rate * gradients[0])\n",
    "    b.assign_sub(learning_rate * gradients[1])\n",
    "    return loss"
   ]
  },
  {
   "cell_type": "code",
   "execution_count": 164,
   "id": "cdf1585c",
   "metadata": {},
   "outputs": [
    {
     "name": "stdout",
     "output_type": "stream",
     "text": [
      "Loss at step 0 2.96\n",
      "Loss at step 1 0.32\n",
      "Loss at step 2 0.14\n",
      "Loss at step 3 0.11\n",
      "Loss at step 4 0.10\n",
      "Loss at step 5 0.10\n",
      "Loss at step 6 0.09\n",
      "Loss at step 7 0.09\n",
      "Loss at step 8 0.08\n",
      "Loss at step 9 0.08\n",
      "Loss at step 10 0.07\n",
      "Loss at step 11 0.07\n",
      "Loss at step 12 0.06\n",
      "Loss at step 13 0.06\n",
      "Loss at step 14 0.06\n",
      "Loss at step 15 0.06\n",
      "Loss at step 16 0.05\n",
      "Loss at step 17 0.05\n",
      "Loss at step 18 0.05\n",
      "Loss at step 19 0.05\n",
      "Loss at step 20 0.04\n",
      "Loss at step 21 0.04\n",
      "Loss at step 22 0.04\n",
      "Loss at step 23 0.04\n",
      "Loss at step 24 0.04\n",
      "Loss at step 25 0.04\n",
      "Loss at step 26 0.04\n",
      "Loss at step 27 0.04\n",
      "Loss at step 28 0.04\n",
      "Loss at step 29 0.03\n",
      "Loss at step 30 0.03\n",
      "Loss at step 31 0.03\n",
      "Loss at step 32 0.03\n",
      "Loss at step 33 0.03\n",
      "Loss at step 34 0.03\n",
      "Loss at step 35 0.03\n",
      "Loss at step 36 0.03\n",
      "Loss at step 37 0.03\n",
      "Loss at step 38 0.03\n",
      "Loss at step 39 0.03\n"
     ]
    }
   ],
   "source": [
    "for step in range(40):\n",
    "    loss = training_step(inputs, targets)\n",
    "    print(f\"Loss at step {step} {loss:0.2f}\")"
   ]
  },
  {
   "cell_type": "code",
   "execution_count": 165,
   "id": "b04a9b34",
   "metadata": {},
   "outputs": [],
   "source": [
    "new_predictions = model(inputs)"
   ]
  },
  {
   "cell_type": "code",
   "execution_count": 168,
   "id": "05f49d70",
   "metadata": {},
   "outputs": [
    {
     "data": {
      "text/plain": [
       "TensorShape([2000, 1])"
      ]
     },
     "execution_count": 168,
     "metadata": {},
     "output_type": "execute_result"
    }
   ],
   "source": [
    "new_predictions.shape"
   ]
  },
  {
   "cell_type": "code",
   "execution_count": 169,
   "id": "a0db82b8",
   "metadata": {},
   "outputs": [
    {
     "data": {
      "text/plain": [
       "<matplotlib.collections.PathCollection at 0x1afa3e9a0d0>"
      ]
     },
     "execution_count": 169,
     "metadata": {},
     "output_type": "execute_result"
    },
    {
     "data": {
      "image/png": "[encoded data removed]",
      "text/plain": [
       "<Figure size 432x288 with 1 Axes>"
      ]
     },
     "metadata": {
      "needs_background": "light"
     },
     "output_type": "display_data"
    }
   ],
   "source": [
    "x = np.linspace(-1,4,1000)\n",
    "y = -w[0]/w[1] * x + (0.5 - b)/w[1]\n",
    "plt.plot(x,y,'-r')\n",
    "plt.scatter(inputs[:,0], inputs[:,1], c = new_predictions[:,0] > 0.5)"
   ]
  },
  {
   "cell_type": "markdown",
   "id": "5885377b",
   "metadata": {},
   "source": [
    "# Keras Implementation"
   ]
  },
  {
   "cell_type": "code",
   "execution_count": 170,
   "id": "9b852601",
   "metadata": {},
   "outputs": [],
   "source": [
    "from tensorflow import keras\n"
   ]
  },
  {
   "cell_type": "code",
   "execution_count": 182,
   "id": "cd0c5f2a",
   "metadata": {},
   "outputs": [],
   "source": [
    "class SimpleDenseLayer(keras.layers.Layer):\n",
    "    def __init__(self, activation, units):\n",
    "        super().__init__()\n",
    "        self.units = units\n",
    "        self.activation = activation\n",
    "\n",
    "def build(self, input_shape):\n",
    "    self.w = self.add_weight(shape = (input_shape[-1],self.units), initializer = 'random_normal')\n",
    "    self.b = self.add_weight(shape = (self.units, ), initializer = 'random_normal')\n",
    "    \n",
    "def call(self, inputs):\n",
    "    result = tf.add(tf.matmul(inputs, self.w),self.b)\n",
    "    if self.activation is not None:\n",
    "        return self.activation(result)\n",
    "    return result"
   ]
  },
  {
   "cell_type": "code",
   "execution_count": 183,
   "id": "fed82ea2",
   "metadata": {},
   "outputs": [
    {
     "name": "stdout",
     "output_type": "stream",
     "text": [
      "tf.Tensor(\n",
      "[[1. 1. 1. ... 1. 1. 1.]\n",
      " [1. 1. 1. ... 1. 1. 1.]], shape=(2, 784), dtype=float32)\n"
     ]
    }
   ],
   "source": [
    "my_dense = SimpleDenseLayer(units = 32, activation = tf.nn.relu)\n",
    "input_tensor = tf.ones(shape = (2, 784))\n",
    "output_tensor= my_dense(input_tensor)\n",
    "print(output_tensor)"
   ]
  },
  {
   "cell_type": "code",
   "execution_count": 184,
   "id": "4867ad87",
   "metadata": {},
   "outputs": [
    {
     "name": "stdout",
     "output_type": "stream",
     "text": [
      "(2, 784)\n"
     ]
    }
   ],
   "source": [
    "print(output_tensor.shape)"
   ]
  },
  {
   "cell_type": "code",
   "execution_count": null,
   "id": "230c815e",
   "metadata": {},
   "outputs": [],
   "source": []
  }
 ],
 "metadata": {
  "kernelspec": {
   "display_name": "Python 3 (ipykernel)",
   "language": "python",
   "name": "python3"
  },
  "language_info": {
   "codemirror_mode": {
    "name": "ipython",
    "version": 3
   },
   "file_extension": ".py",
   "mimetype": "text/x-python",
   "name": "python",
   "nbconvert_exporter": "python",
   "pygments_lexer": "ipython3",
   "version": "3.9.6"
  }
 },
 "nbformat": 4,
 "nbformat_minor": 5
}
