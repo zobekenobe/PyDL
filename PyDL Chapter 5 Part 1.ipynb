{
 "cells": [
  {
   "cell_type": "code",
   "execution_count": 1,
   "id": "a3c7a5e1",
   "metadata": {},
   "outputs": [],
   "source": [
    "import tensorflow as tf\n",
    "import numpy as np\n",
    "import matplotlib.pyplot as plt\n",
    "from tensorflow.keras.datasets import mnist"
   ]
  },
  {
   "cell_type": "code",
   "execution_count": 2,
   "id": "b6410ae2",
   "metadata": {},
   "outputs": [],
   "source": [
    "(train_data, train_labels),_ = mnist.load_data()"
   ]
  },
  {
   "cell_type": "code",
   "execution_count": 3,
   "id": "84f63872",
   "metadata": {},
   "outputs": [],
   "source": [
    "train_data = train_data.reshape(len(train_data), 28*28)/255."
   ]
  },
  {
   "cell_type": "code",
   "execution_count": 4,
   "id": "5eb16437",
   "metadata": {},
   "outputs": [],
   "source": [
    "ytrain = tf.keras.utils.to_categorical(train_labels)"
   ]
  },
  {
   "cell_type": "code",
   "execution_count": 5,
   "id": "a1d737bf",
   "metadata": {},
   "outputs": [],
   "source": [
    "# add noise\n",
    "xnoise = np.concatenate((train_data, np.random.random((60000,784))), axis = 1)\n",
    "# add zeros\n",
    "xzeros = np.concatenate((train_data, np.zeros(shape = (60000,784))), axis = 1)"
   ]
  },
  {
   "cell_type": "code",
   "execution_count": 6,
   "id": "56508c23",
   "metadata": {},
   "outputs": [],
   "source": [
    "def build_model():\n",
    "    model = tf.keras.models.Sequential()\n",
    "    model.add(tf.keras.layers.Dense(units=512,activation = 'relu'))\n",
    "    model.add(tf.keras.layers.Dense(units=10, activation = 'softmax'))\n",
    "    \n",
    "    model.compile(optimizer = tf.keras.optimizers.RMSprop(learning_rate = 0.001),\n",
    "                 loss = tf.keras.losses.categorical_crossentropy,\n",
    "                 metrics = ['accuracy'])\n",
    "\n",
    "    return model"
   ]
  },
  {
   "cell_type": "code",
   "execution_count": 7,
   "id": "5e4d1b03",
   "metadata": {},
   "outputs": [],
   "source": [
    "model1 = build_model()\n",
    "model2 = build_model()"
   ]
  },
  {
   "cell_type": "code",
   "execution_count": 8,
   "id": "c3a9c53a",
   "metadata": {},
   "outputs": [
    {
     "name": "stdout",
     "output_type": "stream",
     "text": [
      "Epoch 1/20\n",
      "94/94 [==============================] - 2s 10ms/step - loss: 1.0693 - accuracy: 0.6921 - val_loss: 0.4645 - val_accuracy: 0.8442\n",
      "Epoch 2/20\n",
      "94/94 [==============================] - 1s 8ms/step - loss: 0.4555 - accuracy: 0.8554 - val_loss: 0.3037 - val_accuracy: 0.9100\n",
      "Epoch 3/20\n",
      "94/94 [==============================] - 1s 8ms/step - loss: 0.3343 - accuracy: 0.8942 - val_loss: 0.2571 - val_accuracy: 0.9238\n",
      "Epoch 4/20\n",
      "94/94 [==============================] - 1s 7ms/step - loss: 0.2546 - accuracy: 0.9196 - val_loss: 0.2409 - val_accuracy: 0.9274\n",
      "Epoch 5/20\n",
      "94/94 [==============================] - 1s 7ms/step - loss: 0.2124 - accuracy: 0.9345 - val_loss: 0.2127 - val_accuracy: 0.9332\n",
      "Epoch 6/20\n",
      "94/94 [==============================] - 1s 8ms/step - loss: 0.1729 - accuracy: 0.9455 - val_loss: 0.1671 - val_accuracy: 0.9487\n",
      "Epoch 7/20\n",
      "94/94 [==============================] - 1s 8ms/step - loss: 0.1423 - accuracy: 0.9561 - val_loss: 0.1385 - val_accuracy: 0.9579\n",
      "Epoch 8/20\n",
      "94/94 [==============================] - 1s 8ms/step - loss: 0.1168 - accuracy: 0.9627 - val_loss: 0.1868 - val_accuracy: 0.9447\n",
      "Epoch 9/20\n",
      "94/94 [==============================] - 1s 7ms/step - loss: 0.0981 - accuracy: 0.9693 - val_loss: 0.1310 - val_accuracy: 0.9603\n",
      "Epoch 10/20\n",
      "94/94 [==============================] - 1s 8ms/step - loss: 0.0847 - accuracy: 0.9731 - val_loss: 0.1147 - val_accuracy: 0.9669\n",
      "Epoch 11/20\n",
      "94/94 [==============================] - 1s 8ms/step - loss: 0.0694 - accuracy: 0.9788 - val_loss: 0.1395 - val_accuracy: 0.9572\n",
      "Epoch 12/20\n",
      "94/94 [==============================] - 1s 8ms/step - loss: 0.0602 - accuracy: 0.9811 - val_loss: 0.1265 - val_accuracy: 0.9632\n",
      "Epoch 13/20\n",
      "94/94 [==============================] - 1s 8ms/step - loss: 0.0504 - accuracy: 0.9843 - val_loss: 0.1120 - val_accuracy: 0.9688\n",
      "Epoch 14/20\n",
      "94/94 [==============================] - 1s 8ms/step - loss: 0.0440 - accuracy: 0.9866 - val_loss: 0.1036 - val_accuracy: 0.9697\n",
      "Epoch 15/20\n",
      "94/94 [==============================] - 1s 8ms/step - loss: 0.0371 - accuracy: 0.9893 - val_loss: 0.1036 - val_accuracy: 0.9712\n",
      "Epoch 16/20\n",
      "94/94 [==============================] - 1s 8ms/step - loss: 0.0295 - accuracy: 0.9912 - val_loss: 0.1158 - val_accuracy: 0.9699\n",
      "Epoch 17/20\n",
      "94/94 [==============================] - 1s 8ms/step - loss: 0.0288 - accuracy: 0.9916 - val_loss: 0.1238 - val_accuracy: 0.9670\n",
      "Epoch 18/20\n",
      "94/94 [==============================] - 1s 8ms/step - loss: 0.0254 - accuracy: 0.9934 - val_loss: 0.1033 - val_accuracy: 0.9729\n",
      "Epoch 19/20\n",
      "94/94 [==============================] - 1s 8ms/step - loss: 0.0272 - accuracy: 0.9937 - val_loss: 0.1007 - val_accuracy: 0.9740\n",
      "Epoch 20/20\n",
      "94/94 [==============================] - 1s 8ms/step - loss: 0.0231 - accuracy: 0.9936 - val_loss: 0.1428 - val_accuracy: 0.9638\n",
      "Epoch 1/20\n",
      "94/94 [==============================] - 1s 10ms/step - loss: 0.4503 - accuracy: 0.8725 - val_loss: 0.2474 - val_accuracy: 0.9333\n",
      "Epoch 2/20\n",
      "94/94 [==============================] - 1s 8ms/step - loss: 0.2078 - accuracy: 0.9394 - val_loss: 0.1688 - val_accuracy: 0.9517\n",
      "Epoch 3/20\n",
      "94/94 [==============================] - 1s 8ms/step - loss: 0.1459 - accuracy: 0.9575 - val_loss: 0.1364 - val_accuracy: 0.9624\n",
      "Epoch 4/20\n",
      "94/94 [==============================] - 1s 8ms/step - loss: 0.1092 - accuracy: 0.9681 - val_loss: 0.1213 - val_accuracy: 0.9632\n",
      "Epoch 5/20\n",
      "94/94 [==============================] - 1s 8ms/step - loss: 0.0847 - accuracy: 0.9764 - val_loss: 0.1115 - val_accuracy: 0.9661\n",
      "Epoch 6/20\n",
      "94/94 [==============================] - 1s 8ms/step - loss: 0.0682 - accuracy: 0.9804 - val_loss: 0.0916 - val_accuracy: 0.9726\n",
      "Epoch 7/20\n",
      "94/94 [==============================] - 1s 8ms/step - loss: 0.0546 - accuracy: 0.9851 - val_loss: 0.0867 - val_accuracy: 0.9730\n",
      "Epoch 8/20\n",
      "94/94 [==============================] - 1s 8ms/step - loss: 0.0455 - accuracy: 0.9875 - val_loss: 0.0811 - val_accuracy: 0.9764\n",
      "Epoch 9/20\n",
      "94/94 [==============================] - 1s 8ms/step - loss: 0.0371 - accuracy: 0.9901 - val_loss: 0.0779 - val_accuracy: 0.9756\n",
      "Epoch 10/20\n",
      "94/94 [==============================] - 1s 8ms/step - loss: 0.0309 - accuracy: 0.9915 - val_loss: 0.0741 - val_accuracy: 0.9785\n",
      "Epoch 11/20\n",
      "94/94 [==============================] - 1s 8ms/step - loss: 0.0245 - accuracy: 0.9939 - val_loss: 0.0862 - val_accuracy: 0.9743\n",
      "Epoch 12/20\n",
      "94/94 [==============================] - 1s 8ms/step - loss: 0.0202 - accuracy: 0.9949 - val_loss: 0.0826 - val_accuracy: 0.9769\n",
      "Epoch 13/20\n",
      "94/94 [==============================] - 1s 8ms/step - loss: 0.0171 - accuracy: 0.9961 - val_loss: 0.0787 - val_accuracy: 0.9783\n",
      "Epoch 14/20\n",
      "94/94 [==============================] - 1s 8ms/step - loss: 0.0136 - accuracy: 0.9970 - val_loss: 0.0772 - val_accuracy: 0.9772\n",
      "Epoch 15/20\n",
      "94/94 [==============================] - 1s 8ms/step - loss: 0.0111 - accuracy: 0.9977 - val_loss: 0.0847 - val_accuracy: 0.9763\n",
      "Epoch 16/20\n",
      "94/94 [==============================] - 1s 8ms/step - loss: 0.0092 - accuracy: 0.9981 - val_loss: 0.0784 - val_accuracy: 0.9789\n",
      "Epoch 17/20\n",
      "94/94 [==============================] - 1s 8ms/step - loss: 0.0077 - accuracy: 0.9987 - val_loss: 0.0797 - val_accuracy: 0.9787\n",
      "Epoch 18/20\n",
      "94/94 [==============================] - 1s 8ms/step - loss: 0.0063 - accuracy: 0.9988 - val_loss: 0.0817 - val_accuracy: 0.9793\n",
      "Epoch 19/20\n",
      "94/94 [==============================] - 1s 8ms/step - loss: 0.0054 - accuracy: 0.9990 - val_loss: 0.0771 - val_accuracy: 0.9803\n",
      "Epoch 20/20\n",
      "94/94 [==============================] - 1s 8ms/step - loss: 0.0042 - accuracy: 0.9992 - val_loss: 0.0876 - val_accuracy: 0.9785\n"
     ]
    }
   ],
   "source": [
    "history1 = model1.fit(xnoise, ytrain, epochs=20, batch_size = 512, validation_split = 0.2)\n",
    "history2 = model2.fit(xzeros, ytrain, epochs=20, batch_size = 512, validation_split = 0.2)"
   ]
  },
  {
   "cell_type": "code",
   "execution_count": 9,
   "id": "51ba4c1e",
   "metadata": {},
   "outputs": [],
   "source": [
    "x = np.arange(1,21)"
   ]
  },
  {
   "cell_type": "code",
   "execution_count": 14,
   "id": "94f8e15a",
   "metadata": {},
   "outputs": [
    {
     "data": {
      "image/png": "[encoded data removed]",
      "text/plain": [
       "<Figure size 432x288 with 1 Axes>"
      ]
     },
     "metadata": {
      "needs_background": "light"
     },
     "output_type": "display_data"
    }
   ],
   "source": [
    "plt.plot(x, history1.history['loss'],'ob',label='noise loss')\n",
    "plt.plot(x, history2.history['loss'],'or',label='zeros loss')\n",
    "plt.plot(x, history1.history['val_loss'],'b',label='noise loss')\n",
    "plt.plot(x, history2.history['val_loss'],'r',label='zeros loss')\n",
    "plt.legend()\n",
    "plt.show()"
   ]
  },
  {
   "cell_type": "code",
   "execution_count": null,
   "id": "6e369ae9",
   "metadata": {},
   "outputs": [],
   "source": [
    "plt.plot()"
   ]
  }
 ],
 "metadata": {
  "kernelspec": {
   "display_name": "Python 3 (ipykernel)",
   "language": "python",
   "name": "python3"
  },
  "language_info": {
   "codemirror_mode": {
    "name": "ipython",
    "version": 3
   },
   "file_extension": ".py",
   "mimetype": "text/x-python",
   "name": "python",
   "nbconvert_exporter": "python",
   "pygments_lexer": "ipython3",
   "version": "3.9.6"
  }
 },
 "nbformat": 4,
 "nbformat_minor": 5
}
