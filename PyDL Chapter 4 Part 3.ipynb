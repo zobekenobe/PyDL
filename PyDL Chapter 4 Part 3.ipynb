{
 "cells": [
  {
   "cell_type": "code",
   "execution_count": 1,
   "id": "8ebc96d1",
   "metadata": {},
   "outputs": [],
   "source": [
    "import tensorflow as tf\n",
    "import matplotlib.pyplot as plt\n",
    "import numpy as np\n",
    "\n",
    "import warnings\n",
    "warnings.filterwarnings('ignore')"
   ]
  },
  {
   "cell_type": "code",
   "execution_count": 2,
   "id": "8c42f80f",
   "metadata": {},
   "outputs": [],
   "source": [
    "from tensorflow.keras.datasets import boston_housing"
   ]
  },
  {
   "cell_type": "code",
   "execution_count": 3,
   "id": "dd20cd85",
   "metadata": {},
   "outputs": [
    {
     "name": "stdout",
     "output_type": "stream",
     "text": [
      "Downloading data from https://storage.googleapis.com/tensorflow/tf-keras-datasets/boston_housing.npz\n",
      "57344/57026 [==============================] - 0s 0us/step\n",
      "65536/57026 [==================================] - 0s 0us/step\n"
     ]
    }
   ],
   "source": [
    "(xtrain, ytrain),(xtest, ytest) = boston_housing.load_data()"
   ]
  },
  {
   "cell_type": "code",
   "execution_count": 9,
   "id": "45343852",
   "metadata": {},
   "outputs": [],
   "source": [
    "# normalize the data\n",
    "from sklearn.preprocessing import StandardScaler"
   ]
  },
  {
   "cell_type": "code",
   "execution_count": 12,
   "id": "651e0b38",
   "metadata": {},
   "outputs": [],
   "source": [
    "xtrain_scaled = StandardScaler().fit_transform(xtrain)"
   ]
  },
  {
   "cell_type": "code",
   "execution_count": 23,
   "id": "494a85a8",
   "metadata": {},
   "outputs": [],
   "source": [
    "def model():\n",
    "    model = tf.keras.models.Sequential()\n",
    "    model.add(tf.keras.layers.Dense(units = 64, activation = 'relu'))\n",
    "    model.add(tf.keras.layers.Dense(units = 64, activation = 'relu'))\n",
    "    model.add(tf.keras.layers.Dense(units = 1))\n",
    "    model.compile(optimizer = tf.keras.optimizers.RMSprop(learning_rate = 0.001), \n",
    "                 loss = tf.keras.losses.mean_squared_error,\n",
    "                 metrics = ['mae'])\n",
    "    return model"
   ]
  },
  {
   "cell_type": "code",
   "execution_count": 24,
   "id": "9900c2a3",
   "metadata": {},
   "outputs": [],
   "source": [
    "from sklearn.model_selection import KFold"
   ]
  },
  {
   "cell_type": "code",
   "execution_count": 80,
   "id": "f150ecaa",
   "metadata": {},
   "outputs": [],
   "source": [
    "def kfold(data, y, model, k = 3):\n",
    "    scores = []\n",
    "    chunks = len(data)//k\n",
    "    for i in range(k):\n",
    "        print(f\"{i}th iteration\")\n",
    "        start = chunks * i\n",
    "        end   = chunks * (i+1)\n",
    "        validation_data = (data[start : end,:],y[start:end])\n",
    "        training_data   = np.concatenate((data[0:start,:],data[end:, :]),axis = 0)\n",
    "        target_data     = np.concatenate((y[0:start],y[end:]), axis = 0)\n",
    "\n",
    "        model().fit(training_data,target_data, epochs = 20, batch_size = chunks)\n",
    "        val_mse, val_mae = model().evaluate(validation_data[0], validation_data[1])\n",
    "        scores.append(val_mae)\n",
    "    return scores\n",
    "    "
   ]
  },
  {
   "cell_type": "code",
   "execution_count": 81,
   "id": "cc0b2942",
   "metadata": {},
   "outputs": [
    {
     "name": "stdout",
     "output_type": "stream",
     "text": [
      "0th iteration\n",
      "Epoch 1/20\n",
      "3/3 [==============================] - 0s 6ms/step - loss: 577.8945 - mae: 22.3279\n",
      "Epoch 2/20\n",
      "3/3 [==============================] - 0s 5ms/step - loss: 553.4647 - mae: 21.7811\n",
      "Epoch 3/20\n",
      "3/3 [==============================] - 0s 5ms/step - loss: 536.8128 - mae: 21.3907\n",
      "Epoch 4/20\n",
      "3/3 [==============================] - 0s 6ms/step - loss: 519.6854 - mae: 20.9774\n",
      "Epoch 5/20\n",
      "3/3 [==============================] - 0s 6ms/step - loss: 503.1551 - mae: 20.5851\n",
      "Epoch 6/20\n",
      "3/3 [==============================] - 0s 6ms/step - loss: 487.9738 - mae: 20.2082\n",
      "Epoch 7/20\n",
      "3/3 [==============================] - 0s 6ms/step - loss: 471.9552 - mae: 19.8100\n",
      "Epoch 8/20\n",
      "3/3 [==============================] - 0s 6ms/step - loss: 453.4568 - mae: 19.3663\n",
      "Epoch 9/20\n",
      "3/3 [==============================] - 0s 6ms/step - loss: 434.9755 - mae: 18.9105\n",
      "Epoch 10/20\n",
      "3/3 [==============================] - 0s 6ms/step - loss: 421.5693 - mae: 18.5544\n",
      "Epoch 11/20\n",
      "3/3 [==============================] - 0s 6ms/step - loss: 403.0628 - mae: 18.0838\n",
      "Epoch 12/20\n",
      "3/3 [==============================] - 0s 6ms/step - loss: 385.7197 - mae: 17.6224\n",
      "Epoch 13/20\n",
      "3/3 [==============================] - 0s 6ms/step - loss: 369.7375 - mae: 17.1628\n",
      "Epoch 14/20\n",
      "3/3 [==============================] - 0s 6ms/step - loss: 348.4580 - mae: 16.5751\n",
      "Epoch 15/20\n",
      "3/3 [==============================] - 0s 6ms/step - loss: 327.6234 - mae: 16.0039\n",
      "Epoch 16/20\n",
      "3/3 [==============================] - 0s 6ms/step - loss: 306.8811 - mae: 15.4118\n",
      "Epoch 17/20\n",
      "3/3 [==============================] - 0s 6ms/step - loss: 284.1441 - mae: 14.7291\n",
      "Epoch 18/20\n",
      "3/3 [==============================] - 0s 7ms/step - loss: 268.4143 - mae: 14.2291\n",
      "Epoch 19/20\n",
      "3/3 [==============================] - 0s 6ms/step - loss: 253.0017 - mae: 13.7213\n",
      "Epoch 20/20\n",
      "3/3 [==============================] - 0s 6ms/step - loss: 233.4937 - mae: 13.0950\n",
      "5/5 [==============================] - 0s 3ms/step - loss: 593.7440 - mae: 22.3890\n",
      "1th iteration\n",
      "Epoch 1/20\n",
      "3/3 [==============================] - 0s 6ms/step - loss: 601.1948 - mae: 22.5159\n",
      "Epoch 2/20\n",
      "3/3 [==============================] - 0s 6ms/step - loss: 573.7323 - mae: 21.9555\n",
      "Epoch 3/20\n",
      "3/3 [==============================] - 0s 6ms/step - loss: 556.0463 - mae: 21.5708\n",
      "Epoch 4/20\n",
      "3/3 [==============================] - 0s 6ms/step - loss: 537.1400 - mae: 21.1679\n",
      "Epoch 5/20\n",
      "3/3 [==============================] - 0s 5ms/step - loss: 519.9180 - mae: 20.7767\n",
      "Epoch 6/20\n",
      "3/3 [==============================] - 0s 5ms/step - loss: 499.5736 - mae: 20.3357\n",
      "Epoch 7/20\n",
      "3/3 [==============================] - 0s 6ms/step - loss: 483.1854 - mae: 19.9498\n",
      "Epoch 8/20\n",
      "3/3 [==============================] - 0s 6ms/step - loss: 467.7971 - mae: 19.5844\n",
      "Epoch 9/20\n",
      "3/3 [==============================] - 0s 5ms/step - loss: 445.8682 - mae: 19.0582\n",
      "Epoch 10/20\n",
      "3/3 [==============================] - 0s 6ms/step - loss: 432.6753 - mae: 18.7156\n",
      "Epoch 11/20\n",
      "3/3 [==============================] - 0s 7ms/step - loss: 413.5266 - mae: 18.2393\n",
      "Epoch 12/20\n",
      "3/3 [==============================] - 0s 5ms/step - loss: 396.1017 - mae: 17.7890\n",
      "Epoch 13/20\n",
      "3/3 [==============================] - 0s 6ms/step - loss: 379.9537 - mae: 17.3487\n",
      "Epoch 14/20\n",
      "3/3 [==============================] - 0s 6ms/step - loss: 358.6010 - mae: 16.7948\n",
      "Epoch 15/20\n",
      "3/3 [==============================] - 0s 6ms/step - loss: 333.8929 - mae: 16.1239\n",
      "Epoch 16/20\n",
      "3/3 [==============================] - 0s 6ms/step - loss: 314.8678 - mae: 15.5469\n",
      "Epoch 17/20\n",
      "3/3 [==============================] - 0s 6ms/step - loss: 290.4827 - mae: 14.8381\n",
      "Epoch 18/20\n",
      "3/3 [==============================] - 0s 6ms/step - loss: 271.7480 - mae: 14.2416\n",
      "Epoch 19/20\n",
      "3/3 [==============================] - 0s 5ms/step - loss: 242.4748 - mae: 13.3073\n",
      "Epoch 20/20\n",
      "3/3 [==============================] - 0s 6ms/step - loss: 225.4953 - mae: 12.7229\n",
      "5/5 [==============================] - 0s 3ms/step - loss: 518.3968 - mae: 21.4316\n",
      "2th iteration\n",
      "Epoch 1/20\n",
      "3/3 [==============================] - 0s 6ms/step - loss: 551.3389 - mae: 21.7996\n",
      "Epoch 2/20\n",
      "3/3 [==============================] - 0s 6ms/step - loss: 526.1687 - mae: 21.2044\n",
      "Epoch 3/20\n",
      "3/3 [==============================] - 0s 5ms/step - loss: 506.8444 - mae: 20.7552\n",
      "Epoch 4/20\n",
      "3/3 [==============================] - 0s 6ms/step - loss: 489.9240 - mae: 20.3248\n",
      "Epoch 5/20\n",
      "3/3 [==============================] - 0s 6ms/step - loss: 471.7622 - mae: 19.8757\n",
      "Epoch 6/20\n",
      "3/3 [==============================] - 0s 7ms/step - loss: 453.3208 - mae: 19.3948\n",
      "Epoch 7/20\n",
      "3/3 [==============================] - 0s 5ms/step - loss: 432.8528 - mae: 18.9072\n",
      "Epoch 8/20\n",
      "3/3 [==============================] - 0s 6ms/step - loss: 416.3820 - mae: 18.4901\n",
      "Epoch 9/20\n",
      "3/3 [==============================] - 0s 6ms/step - loss: 400.1133 - mae: 18.0427\n",
      "Epoch 10/20\n",
      "3/3 [==============================] - 0s 6ms/step - loss: 379.9076 - mae: 17.4711\n",
      "Epoch 11/20\n",
      "3/3 [==============================] - 0s 6ms/step - loss: 363.5746 - mae: 17.0596\n",
      "Epoch 12/20\n",
      "3/3 [==============================] - 0s 6ms/step - loss: 348.1870 - mae: 16.6444\n",
      "Epoch 13/20\n",
      "3/3 [==============================] - 0s 5ms/step - loss: 330.6334 - mae: 16.1689\n",
      "Epoch 14/20\n",
      "3/3 [==============================] - 0s 6ms/step - loss: 312.5619 - mae: 15.6558\n",
      "Epoch 15/20\n",
      "3/3 [==============================] - 0s 5ms/step - loss: 290.7546 - mae: 15.0548\n",
      "Epoch 16/20\n",
      "3/3 [==============================] - 0s 6ms/step - loss: 268.8323 - mae: 14.4270\n",
      "Epoch 17/20\n",
      "3/3 [==============================] - 0s 6ms/step - loss: 250.8104 - mae: 13.8679\n",
      "Epoch 18/20\n",
      "3/3 [==============================] - 0s 6ms/step - loss: 235.3512 - mae: 13.3453\n",
      "Epoch 19/20\n",
      "3/3 [==============================] - 0s 7ms/step - loss: 218.8770 - mae: 12.7810\n",
      "Epoch 20/20\n",
      "3/3 [==============================] - 0s 6ms/step - loss: 197.5776 - mae: 12.0726\n",
      "5/5 [==============================] - 0s 3ms/step - loss: 653.7354 - mae: 23.5600\n"
     ]
    }
   ],
   "source": [
    "scores = kfold(xtrain_scaled, ytrain, model)"
   ]
  },
  {
   "cell_type": "code",
   "execution_count": 92,
   "id": "dd69bffd",
   "metadata": {},
   "outputs": [],
   "source": []
  },
  {
   "cell_type": "code",
   "execution_count": 90,
   "id": "69d1d665",
   "metadata": {},
   "outputs": [],
   "source": []
  },
  {
   "cell_type": "code",
   "execution_count": null,
   "id": "979bc252",
   "metadata": {},
   "outputs": [],
   "source": []
  }
 ],
 "metadata": {
  "kernelspec": {
   "display_name": "Python 3 (ipykernel)",
   "language": "python",
   "name": "python3"
  },
  "language_info": {
   "codemirror_mode": {
    "name": "ipython",
    "version": 3
   },
   "file_extension": ".py",
   "mimetype": "text/x-python",
   "name": "python",
   "nbconvert_exporter": "python",
   "pygments_lexer": "ipython3",
   "version": "3.9.6"
  }
 },
 "nbformat": 4,
 "nbformat_minor": 5
}
