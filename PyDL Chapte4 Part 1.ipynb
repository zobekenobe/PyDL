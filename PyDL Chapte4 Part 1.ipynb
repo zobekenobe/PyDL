{
 "cells": [
  {
   "cell_type": "code",
   "execution_count": 1,
   "id": "9a0df4b7",
   "metadata": {},
   "outputs": [],
   "source": [
    "import tensorflow as tf\n",
    "import matplotlib.pyplot as plt\n",
    "import numpy as np\n",
    "\n",
    "import warnings\n",
    "warnings.filterwarnings('ignore')"
   ]
  },
  {
   "cell_type": "code",
   "execution_count": 2,
   "id": "08678471",
   "metadata": {},
   "outputs": [],
   "source": [
    "from tensorflow.keras.datasets import imdb"
   ]
  },
  {
   "cell_type": "code",
   "execution_count": 15,
   "id": "56a8c19b",
   "metadata": {},
   "outputs": [],
   "source": [
    "(xtrain, ytrain),(xtest, ytest) = imdb.load_data(num_words=10000)"
   ]
  },
  {
   "cell_type": "code",
   "execution_count": 16,
   "id": "7ab1038d",
   "metadata": {},
   "outputs": [],
   "source": [
    "# vectorize the input data\n",
    "def vectorize(sequence_list, dimensions = 10000):\n",
    "    result = np.zeros(shape = (sequence_list.shape[0], dimensions))\n",
    "    for i in range(sequence_list.shape[0]):\n",
    "        for j in sequence_list[i]:\n",
    "            result[i,j] = 1.\n",
    "    return result"
   ]
  },
  {
   "cell_type": "code",
   "execution_count": 17,
   "id": "6b1cfd06",
   "metadata": {},
   "outputs": [],
   "source": [
    "xtrain = vectorize(xtrain)\n",
    "xtest  = vectorize(xtest)"
   ]
  },
  {
   "cell_type": "code",
   "execution_count": 18,
   "id": "0e0065ac",
   "metadata": {},
   "outputs": [],
   "source": [
    "ytrain = np.asarray(ytrain).astype('float32')\n",
    "ytest  = np.asarray(ytest).astype('float32')"
   ]
  },
  {
   "cell_type": "code",
   "execution_count": 19,
   "id": "3177a0b1",
   "metadata": {},
   "outputs": [],
   "source": [
    "# Create the model\n",
    "model = tf.keras.Sequential()"
   ]
  },
  {
   "cell_type": "code",
   "execution_count": 20,
   "id": "5b84a2f2",
   "metadata": {},
   "outputs": [],
   "source": [
    "model.add(tf.keras.layers.Dense(units = 16, activation = 'relu'))\n",
    "model.add(tf.keras.layers.Dense(units = 16, activation = 'relu'))\n",
    "model.add(tf.keras.layers.Dense(units = 1,  activation = 'sigmoid'))"
   ]
  },
  {
   "cell_type": "code",
   "execution_count": 21,
   "id": "702d4f7b",
   "metadata": {},
   "outputs": [],
   "source": [
    "model.compile(optimizer = tf.keras.optimizers.RMSprop(learning_rate = 0.1),\n",
    "             loss = tf.keras.losses.binary_crossentropy,\n",
    "             metrics = ['accuracy'])"
   ]
  },
  {
   "cell_type": "code",
   "execution_count": 22,
   "id": "447c8697",
   "metadata": {},
   "outputs": [
    {
     "name": "stdout",
     "output_type": "stream",
     "text": [
      "Epoch 1/20\n",
      "37/37 [==============================] - 1s 23ms/step - loss: 7.7166 - accuracy: 0.6948 - val_loss: 0.4721 - val_accuracy: 0.7794\n",
      "Epoch 2/20\n",
      "37/37 [==============================] - 1s 14ms/step - loss: 0.4456 - accuracy: 0.8187 - val_loss: 0.4232 - val_accuracy: 0.8189\n",
      "Epoch 3/20\n",
      "37/37 [==============================] - 1s 14ms/step - loss: 0.3451 - accuracy: 0.8710 - val_loss: 0.4362 - val_accuracy: 0.8445\n",
      "Epoch 4/20\n",
      "37/37 [==============================] - 1s 14ms/step - loss: 0.2968 - accuracy: 0.8948 - val_loss: 0.4229 - val_accuracy: 0.8750\n",
      "Epoch 5/20\n",
      "37/37 [==============================] - 1s 14ms/step - loss: 0.2272 - accuracy: 0.9206 - val_loss: 0.3557 - val_accuracy: 0.8776\n",
      "Epoch 6/20\n",
      "37/37 [==============================] - 1s 14ms/step - loss: 0.2077 - accuracy: 0.9315 - val_loss: 0.3429 - val_accuracy: 0.8827\n",
      "Epoch 7/20\n",
      "37/37 [==============================] - 1s 14ms/step - loss: 0.1887 - accuracy: 0.9418 - val_loss: 0.5373 - val_accuracy: 0.8557\n",
      "Epoch 8/20\n",
      "37/37 [==============================] - 1s 14ms/step - loss: 0.1621 - accuracy: 0.9475 - val_loss: 0.4333 - val_accuracy: 0.8592\n",
      "Epoch 9/20\n",
      "37/37 [==============================] - 1s 14ms/step - loss: 0.1692 - accuracy: 0.9490 - val_loss: 0.5302 - val_accuracy: 0.8710\n",
      "Epoch 10/20\n",
      "37/37 [==============================] - 1s 14ms/step - loss: 0.1453 - accuracy: 0.9574 - val_loss: 0.4925 - val_accuracy: 0.8744\n",
      "Epoch 11/20\n",
      "37/37 [==============================] - 1s 14ms/step - loss: 0.1413 - accuracy: 0.9563 - val_loss: 0.5114 - val_accuracy: 0.8741\n",
      "Epoch 12/20\n",
      "37/37 [==============================] - 1s 14ms/step - loss: 0.1547 - accuracy: 0.9604 - val_loss: 0.6422 - val_accuracy: 0.8715\n",
      "Epoch 13/20\n",
      "37/37 [==============================] - 1s 14ms/step - loss: 0.1260 - accuracy: 0.9671 - val_loss: 0.6473 - val_accuracy: 0.8706\n",
      "Epoch 14/20\n",
      "37/37 [==============================] - 1s 15ms/step - loss: 0.1092 - accuracy: 0.9703 - val_loss: 0.6891 - val_accuracy: 0.8698\n",
      "Epoch 15/20\n",
      "37/37 [==============================] - 1s 14ms/step - loss: 0.1070 - accuracy: 0.9714 - val_loss: 0.9763 - val_accuracy: 0.8670\n",
      "Epoch 16/20\n",
      "37/37 [==============================] - 1s 14ms/step - loss: 0.1081 - accuracy: 0.9715 - val_loss: 0.8178 - val_accuracy: 0.8690\n",
      "Epoch 17/20\n",
      "37/37 [==============================] - 1s 15ms/step - loss: 0.1362 - accuracy: 0.9649 - val_loss: 0.7533 - val_accuracy: 0.8693\n",
      "Epoch 18/20\n",
      "37/37 [==============================] - 1s 14ms/step - loss: 0.0967 - accuracy: 0.9757 - val_loss: 0.6052 - val_accuracy: 0.8458\n",
      "Epoch 19/20\n",
      "37/37 [==============================] - 1s 14ms/step - loss: 0.1080 - accuracy: 0.9729 - val_loss: 0.7827 - val_accuracy: 0.8702\n",
      "Epoch 20/20\n",
      "37/37 [==============================] - 1s 14ms/step - loss: 0.1003 - accuracy: 0.9761 - val_loss: 1.0437 - val_accuracy: 0.8706\n"
     ]
    }
   ],
   "source": [
    "history = model.fit(xtrain, ytrain, epochs = 20, batch_size = 512, validation_split = 0.25)"
   ]
  },
  {
   "cell_type": "code",
   "execution_count": 23,
   "id": "58cc8828",
   "metadata": {},
   "outputs": [
    {
     "data": {
      "text/plain": [
       "dict_keys(['loss', 'accuracy', 'val_loss', 'val_accuracy'])"
      ]
     },
     "execution_count": 23,
     "metadata": {},
     "output_type": "execute_result"
    }
   ],
   "source": [
    "history.history.keys()"
   ]
  },
  {
   "cell_type": "code",
   "execution_count": 24,
   "id": "0c2172f3",
   "metadata": {},
   "outputs": [],
   "source": [
    "x = np.arange(1,21)"
   ]
  },
  {
   "cell_type": "code",
   "execution_count": 25,
   "id": "b378a298",
   "metadata": {},
   "outputs": [
    {
     "data": {
      "image/png": "[encoded data removed]",
      "text/plain": [
       "<Figure size 432x288 with 1 Axes>"
      ]
     },
     "metadata": {
      "needs_background": "light"
     },
     "output_type": "display_data"
    }
   ],
   "source": [
    "plt.plot(x, history.history['loss'], 'b', label='Loss')\n",
    "plt.plot(x, history.history['val_loss'], 'bo', label='Validation loss')\n",
    "plt.xlabel('Epochs')\n",
    "plt.ylabel('Loss')\n",
    "plt.legend()\n",
    "plt.show()"
   ]
  },
  {
   "cell_type": "code",
   "execution_count": 26,
   "id": "d318f77b",
   "metadata": {},
   "outputs": [
    {
     "data": {
      "image/png": "[encoded data removed]",
      "text/plain": [
       "<Figure size 432x288 with 1 Axes>"
      ]
     },
     "metadata": {
      "needs_background": "light"
     },
     "output_type": "display_data"
    }
   ],
   "source": [
    "plt.plot(x, history.history['accuracy'], 'b', label='Loss')\n",
    "plt.plot(x, history.history['val_accuracy'], 'bo', label='Validation loss')\n",
    "plt.xlabel('Epochs')\n",
    "plt.ylabel('Loss')\n",
    "plt.legend()\n",
    "plt.show()"
   ]
  },
  {
   "cell_type": "code",
   "execution_count": 29,
   "id": "58beb45f",
   "metadata": {},
   "outputs": [
    {
     "data": {
      "text/plain": [
       "array([[1.2538406e-03],\n",
       "       [9.9991155e-01],\n",
       "       [8.3709687e-01],\n",
       "       ...,\n",
       "       [6.6932080e-06],\n",
       "       [3.3779763e-09],\n",
       "       [1.2896142e-07]], dtype=float32)"
      ]
     },
     "execution_count": 29,
     "metadata": {},
     "output_type": "execute_result"
    }
   ],
   "source": [
    "model.predict(xtest)"
   ]
  },
  {
   "cell_type": "code",
   "execution_count": 30,
   "id": "c574205a",
   "metadata": {},
   "outputs": [],
   "source": [
    "predictions = model.predict(xtest)"
   ]
  },
  {
   "cell_type": "code",
   "execution_count": 42,
   "id": "b66bec75",
   "metadata": {},
   "outputs": [
    {
     "data": {
      "text/plain": [
       "array([[1.2538406e-03],\n",
       "       [9.9991155e-01],\n",
       "       [8.3709687e-01],\n",
       "       ...,\n",
       "       [6.6932080e-06],\n",
       "       [3.3779763e-09],\n",
       "       [1.2896142e-07]], dtype=float32)"
      ]
     },
     "execution_count": 42,
     "metadata": {},
     "output_type": "execute_result"
    }
   ],
   "source": [
    "predictions"
   ]
  },
  {
   "cell_type": "code",
   "execution_count": null,
   "id": "3211d0ab",
   "metadata": {},
   "outputs": [],
   "source": []
  }
 ],
 "metadata": {
  "kernelspec": {
   "display_name": "Python 3 (ipykernel)",
   "language": "python",
   "name": "python3"
  },
  "language_info": {
   "codemirror_mode": {
    "name": "ipython",
    "version": 3
   },
   "file_extension": ".py",
   "mimetype": "text/x-python",
   "name": "python",
   "nbconvert_exporter": "python",
   "pygments_lexer": "ipython3",
   "version": "3.9.6"
  }
 },
 "nbformat": 4,
 "nbformat_minor": 5
}
