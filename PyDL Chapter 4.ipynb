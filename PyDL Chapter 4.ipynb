{
 "cells": [
  {
   "cell_type": "code",
   "execution_count": 158,
   "id": "595f96af",
   "metadata": {},
   "outputs": [],
   "source": [
    "import numpy as np\n",
    "import matplotlib.pyplot as plt\n",
    "import seaborn as sns\n",
    "import pandas as pd\n",
    "import tensorflow as tf\n",
    "\n",
    "import warnings\n",
    "warnings.filterwarnings('ignore')"
   ]
  },
  {
   "cell_type": "code",
   "execution_count": 159,
   "id": "32edf1fc",
   "metadata": {},
   "outputs": [],
   "source": [
    "from tensorflow.keras.datasets import imdb"
   ]
  },
  {
   "cell_type": "code",
   "execution_count": 160,
   "id": "38be762b",
   "metadata": {},
   "outputs": [],
   "source": [
    "(xtrain, ytrain), (xtest, ytest) = imdb.load_data(num_words = 10000)"
   ]
  },
  {
   "cell_type": "code",
   "execution_count": 161,
   "id": "b1d80726",
   "metadata": {},
   "outputs": [
    {
     "data": {
      "image/png": "[encoded data removed]",
      "text/plain": [
       "<Figure size 432x288 with 1 Axes>"
      ]
     },
     "metadata": {
      "needs_background": "light"
     },
     "output_type": "display_data"
    }
   ],
   "source": [
    "sns.countplot(ytrain)\n",
    "plt.show()"
   ]
  },
  {
   "cell_type": "code",
   "execution_count": 162,
   "id": "4631187b",
   "metadata": {},
   "outputs": [],
   "source": [
    "def vectorize(x, dimension = 10000):\n",
    "    results = np.zeros(shape=(len(x), dimension))\n",
    "    for i in range(len(x)):\n",
    "        for j in x[i]:\n",
    "            results[i,j] = 1.\n",
    "    return results"
   ]
  },
  {
   "cell_type": "code",
   "execution_count": 166,
   "id": "e26a24b1",
   "metadata": {},
   "outputs": [],
   "source": [
    "xtrain = vectorize(xtrain)\n",
    "xtest  = vectorize(xtest)"
   ]
  },
  {
   "cell_type": "code",
   "execution_count": 167,
   "id": "5fbba034",
   "metadata": {},
   "outputs": [],
   "source": [
    "ytrain  = np.asarray(ytrain, dtype = 'float32')\n",
    "ytest   = np.asarray(ytest,  dtype = 'float32')"
   ]
  },
  {
   "cell_type": "code",
   "execution_count": 182,
   "id": "484faa36",
   "metadata": {},
   "outputs": [],
   "source": [
    "# Building the model\n",
    "model = tf.keras.models.Sequential()\n",
    "model.add(tf.keras.layers.Dense(units = 16, activation = 'relu'))\n",
    "model.add(tf.keras.layers.Dense(units = 16, activation = 'relu'))\n",
    "model.add(tf.keras.layers.Dense(units = 1,  activation = 'sigmoid'))"
   ]
  },
  {
   "cell_type": "code",
   "execution_count": 183,
   "id": "c4ab8d25",
   "metadata": {},
   "outputs": [],
   "source": [
    "model.compile(optimizer = tf.keras.optimizers.RMSprop(), loss = tf.keras.losses.binary_crossentropy, metrics = ['accuracy'])"
   ]
  },
  {
   "cell_type": "code",
   "execution_count": 184,
   "id": "5ca520cf",
   "metadata": {},
   "outputs": [
    {
     "name": "stdout",
     "output_type": "stream",
     "text": [
      "Epoch 1/20\n",
      "25/25 [==============================] - 3s 61ms/step - loss: 0.5486 - accuracy: 0.7520 - val_loss: 0.4111 - val_accuracy: 0.8626\n",
      "Epoch 2/20\n",
      "25/25 [==============================] - 1s 23ms/step - loss: 0.3297 - accuracy: 0.8943 - val_loss: 0.3200 - val_accuracy: 0.8836\n",
      "Epoch 3/20\n",
      "25/25 [==============================] - 1s 23ms/step - loss: 0.2384 - accuracy: 0.9218 - val_loss: 0.2935 - val_accuracy: 0.8836\n",
      "Epoch 4/20\n",
      "25/25 [==============================] - 1s 23ms/step - loss: 0.1818 - accuracy: 0.9456 - val_loss: 0.2926 - val_accuracy: 0.8842\n",
      "Epoch 5/20\n",
      "25/25 [==============================] - 1s 24ms/step - loss: 0.1478 - accuracy: 0.9540 - val_loss: 0.2918 - val_accuracy: 0.8865\n",
      "Epoch 6/20\n",
      "25/25 [==============================] - 1s 23ms/step - loss: 0.1206 - accuracy: 0.9656 - val_loss: 0.2943 - val_accuracy: 0.8854\n",
      "Epoch 7/20\n",
      "25/25 [==============================] - 1s 23ms/step - loss: 0.0984 - accuracy: 0.9732 - val_loss: 0.3083 - val_accuracy: 0.8848\n",
      "Epoch 8/20\n",
      "25/25 [==============================] - 1s 23ms/step - loss: 0.0819 - accuracy: 0.9785 - val_loss: 0.3445 - val_accuracy: 0.8734\n",
      "Epoch 9/20\n",
      "25/25 [==============================] - 1s 23ms/step - loss: 0.0659 - accuracy: 0.9848 - val_loss: 0.3512 - val_accuracy: 0.8810\n",
      "Epoch 10/20\n",
      "25/25 [==============================] - 1s 23ms/step - loss: 0.0557 - accuracy: 0.9878 - val_loss: 0.3688 - val_accuracy: 0.8797\n",
      "Epoch 11/20\n",
      "25/25 [==============================] - 1s 23ms/step - loss: 0.0412 - accuracy: 0.9924 - val_loss: 0.3964 - val_accuracy: 0.8774\n",
      "Epoch 12/20\n",
      "25/25 [==============================] - 1s 23ms/step - loss: 0.0369 - accuracy: 0.9927 - val_loss: 0.4277 - val_accuracy: 0.8753\n",
      "Epoch 13/20\n",
      "25/25 [==============================] - 1s 23ms/step - loss: 0.0254 - accuracy: 0.9961 - val_loss: 0.5068 - val_accuracy: 0.8596\n",
      "Epoch 14/20\n",
      "25/25 [==============================] - 1s 23ms/step - loss: 0.0206 - accuracy: 0.9972 - val_loss: 0.5414 - val_accuracy: 0.8660\n",
      "Epoch 15/20\n",
      "25/25 [==============================] - 1s 23ms/step - loss: 0.0180 - accuracy: 0.9970 - val_loss: 0.5137 - val_accuracy: 0.8718\n",
      "Epoch 16/20\n",
      "25/25 [==============================] - 1s 22ms/step - loss: 0.0138 - accuracy: 0.9982 - val_loss: 0.5454 - val_accuracy: 0.8704\n",
      "Epoch 17/20\n",
      "25/25 [==============================] - 1s 23ms/step - loss: 0.0082 - accuracy: 0.9993 - val_loss: 0.5821 - val_accuracy: 0.8686\n",
      "Epoch 18/20\n",
      "25/25 [==============================] - 1s 22ms/step - loss: 0.0113 - accuracy: 0.9975 - val_loss: 0.6215 - val_accuracy: 0.8682\n",
      "Epoch 19/20\n",
      "25/25 [==============================] - 1s 22ms/step - loss: 0.0045 - accuracy: 0.9995 - val_loss: 0.6436 - val_accuracy: 0.8670\n",
      "Epoch 20/20\n",
      "25/25 [==============================] - 1s 22ms/step - loss: 0.0036 - accuracy: 0.9998 - val_loss: 0.7202 - val_accuracy: 0.8646\n"
     ]
    }
   ],
   "source": [
    "history = model.fit(xtrain, ytrain, epochs = 20, batch_size = 512, validation_split = 0.5)"
   ]
  },
  {
   "cell_type": "code",
   "execution_count": 186,
   "id": "6ec74ba0",
   "metadata": {},
   "outputs": [
    {
     "data": {
      "text/plain": [
       "dict_keys(['loss', 'accuracy', 'val_loss', 'val_accuracy'])"
      ]
     },
     "execution_count": 186,
     "metadata": {},
     "output_type": "execute_result"
    }
   ],
   "source": [
    "history.history.keys()"
   ]
  },
  {
   "cell_type": "code",
   "execution_count": 189,
   "id": "53395244",
   "metadata": {},
   "outputs": [],
   "source": [
    "x = np.arange(1,21)"
   ]
  },
  {
   "cell_type": "code",
   "execution_count": 207,
   "id": "c4ebe1e6",
   "metadata": {},
   "outputs": [
    {
     "data": {
      "image/png": "[encoded data removed]",
      "text/plain": [
       "<Figure size 432x288 with 1 Axes>"
      ]
     },
     "metadata": {
      "needs_background": "light"
     },
     "output_type": "display_data"
    }
   ],
   "source": [
    "plt.plot(x, history.history['loss'], 'b', label='Loss')\n",
    "plt.plot(x, history.history['val_loss'], 'bo', label='Validation loss')\n",
    "plt.xlabel('Epochs')\n",
    "plt.ylabel('Loss')\n",
    "plt.legend()\n",
    "plt.show()"
   ]
  },
  {
   "cell_type": "code",
   "execution_count": 209,
   "id": "af4f81ed",
   "metadata": {},
   "outputs": [
    {
     "data": {
      "image/png": "[encoded data removed]",
      "text/plain": [
       "<Figure size 432x288 with 1 Axes>"
      ]
     },
     "metadata": {
      "needs_background": "light"
     },
     "output_type": "display_data"
    }
   ],
   "source": [
    "plt.plot(x, history.history['accuracy'], 'ob', label = 'accuracy')\n",
    "plt.plot(x, history.history['val_accuracy'], 'b', label = 'validation accuracy')\n",
    "plt.xlabel('Epochs')\n",
    "plt.ylabel('Accuracy')\n",
    "plt.legend()\n",
    "plt.show()"
   ]
  },
  {
   "cell_type": "code",
   "execution_count": null,
   "id": "c3d95fc4",
   "metadata": {},
   "outputs": [],
   "source": []
  }
 ],
 "metadata": {
  "kernelspec": {
   "display_name": "Python 3 (ipykernel)",
   "language": "python",
   "name": "python3"
  },
  "language_info": {
   "codemirror_mode": {
    "name": "ipython",
    "version": 3
   },
   "file_extension": ".py",
   "mimetype": "text/x-python",
   "name": "python",
   "nbconvert_exporter": "python",
   "pygments_lexer": "ipython3",
   "version": "3.9.6"
  }
 },
 "nbformat": 4,
 "nbformat_minor": 5
}
